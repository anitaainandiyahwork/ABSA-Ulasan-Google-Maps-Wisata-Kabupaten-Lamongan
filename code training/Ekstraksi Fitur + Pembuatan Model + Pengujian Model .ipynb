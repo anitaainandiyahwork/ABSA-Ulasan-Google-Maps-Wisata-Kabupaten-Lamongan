{
 "cells": [
  {
   "cell_type": "markdown",
   "id": "b6dddebd",
   "metadata": {},
   "source": [
    "# Load Data Dest"
   ]
  },
  {
   "cell_type": "code",
   "execution_count": 117,
   "id": "afb0f24b",
   "metadata": {},
   "outputs": [],
   "source": [
    "import pickle\n",
    "x_test_a1= pickle.load(open(\"x_test\\\\x_test_a1.pickle\", \"rb\"))\n",
    "x_test_s1= pickle.load(open(\"x_test\\\\x_test_s1.pickle\", \"rb\"))\n",
    "x_test_a2= pickle.load(open(\"x_test\\\\x_test_a2.pickle\", \"rb\"))\n",
    "x_test_s2= pickle.load(open(\"x_test\\\\x_test_s2.pickle\", \"rb\"))\n",
    "x_test_a3= pickle.load(open(\"x_test\\\\x_test_a3.pickle\", \"rb\"))\n",
    "x_test_s3= pickle.load(open(\"x_test\\\\x_test_s3.pickle\", \"rb\"))\n",
    "\n",
    "y_test_a1= pickle.load(open(\"y_test\\\\y_test_a1.pickle\", \"rb\"))\n",
    "y_test_s1= pickle.load(open(\"y_test\\\\y_test_s1.pickle\", \"rb\"))\n",
    "y_test_a2= pickle.load(open(\"y_test\\\\y_test_a2.pickle\", \"rb\"))\n",
    "y_test_s2= pickle.load(open(\"y_test\\\\y_test_s2.pickle\", \"rb\"))\n",
    "y_test_a3= pickle.load(open(\"y_test\\\\y_test_a3.pickle\", \"rb\"))\n",
    "y_test_s3= pickle.load(open(\"y_test\\\\y_test_s3.pickle\", \"rb\"))"
   ]
  },
  {
   "cell_type": "markdown",
   "id": "18d139d0",
   "metadata": {},
   "source": [
    "### Hitung Jumlah Kemunculan Setiap Kelas pada Data Test"
   ]
  },
  {
   "cell_type": "code",
   "execution_count": 118,
   "id": "8caad0ec",
   "metadata": {},
   "outputs": [
    {
     "name": "stdout",
     "output_type": "stream",
     "text": [
      "y_test_a1 : \n",
      " 1    353\n",
      "0    227\n",
      "Name: atraksi, dtype: int64\n",
      "y_test_s1 : \n",
      " 1    323\n",
      "0     30\n",
      "Name: atraksi, dtype: int64\n",
      "y_test_a2 : \n",
      " 0    384\n",
      "1    196\n",
      "Name: amenitas, dtype: int64\n",
      "y_test_s2 : \n",
      " 1    126\n",
      "0     70\n",
      "Name: amenitas, dtype: int64\n",
      "y_test_a3 : \n",
      " 0    512\n",
      "1     68\n",
      "Name: aksesibilitas, dtype: int64\n",
      "y_test_s3 : \n",
      " 1    38\n",
      "0    30\n",
      "Name: aksesibilitas, dtype: int64\n"
     ]
    }
   ],
   "source": [
    "print('y_test_a1 : \\n', y_test_a1.value_counts())\n",
    "print('y_test_s1 : \\n', y_test_s1.value_counts())\n",
    "print('y_test_a2 : \\n', y_test_a2.value_counts())\n",
    "print('y_test_s2 : \\n', y_test_s2.value_counts())\n",
    "print('y_test_a3 : \\n', y_test_a3.value_counts())\n",
    "print('y_test_s3 : \\n', y_test_s3.value_counts())"
   ]
  },
  {
   "cell_type": "markdown",
   "id": "54c8dc4b",
   "metadata": {},
   "source": [
    "# Load Data Train Tanpa ROS"
   ]
  },
  {
   "cell_type": "code",
   "execution_count": 119,
   "id": "355f5edb",
   "metadata": {},
   "outputs": [],
   "source": [
    "import pickle\n",
    "x_train_a1= pickle.load(open(\"x_train\\\\x_train_a1.pickle\", \"rb\"))\n",
    "x_train_s1= pickle.load(open(\"x_train\\\\x_train_s1.pickle\", \"rb\"))\n",
    "x_train_a2= pickle.load(open(\"x_train\\\\x_train_a2.pickle\", \"rb\"))\n",
    "x_train_s2= pickle.load(open(\"x_train\\\\x_train_s2.pickle\", \"rb\"))\n",
    "x_train_a3= pickle.load(open(\"x_train\\\\x_train_a3.pickle\", \"rb\"))\n",
    "x_train_s3= pickle.load(open(\"x_train\\\\x_train_s3.pickle\", \"rb\"))\n",
    "\n",
    "y_train_a1= pickle.load(open(\"y_train\\\\y_train_a1.pickle\", \"rb\"))\n",
    "y_train_s1= pickle.load(open(\"y_train\\\\y_train_s1.pickle\", \"rb\"))\n",
    "y_train_a2= pickle.load(open(\"y_train\\\\y_train_a2.pickle\", \"rb\"))\n",
    "y_train_s2= pickle.load(open(\"y_train\\\\y_train_s2.pickle\", \"rb\"))\n",
    "y_train_a3= pickle.load(open(\"y_train\\\\y_train_a3.pickle\", \"rb\"))\n",
    "y_train_s3= pickle.load(open(\"y_train\\\\y_train_s3.pickle\", \"rb\"))"
   ]
  },
  {
   "cell_type": "markdown",
   "id": "2e3002f3",
   "metadata": {},
   "source": [
    "### Hitung Jumlah Kemunculan Setiap Kelas pada Data Train RF tanpa ROS"
   ]
  },
  {
   "cell_type": "code",
   "execution_count": 120,
   "id": "7a84b402",
   "metadata": {},
   "outputs": [
    {
     "name": "stdout",
     "output_type": "stream",
     "text": [
      " len y_train_a1 : \n",
      " 2320\n",
      "y_train_a1 : \n",
      " 1    1372\n",
      "0     948\n",
      "Name: atraksi, dtype: int64\n",
      "--------------------------------------------------\n",
      " len y_train_s1 : \n",
      " 1372\n",
      "y_train_s1 : \n",
      " 1    1237\n",
      "0     135\n",
      "Name: atraksi, dtype: int64\n",
      "--------------------------------------------------\n",
      " len y_train_a2 : \n",
      " 2320\n",
      "y_train_a2 : \n",
      " 0    1391\n",
      "1     929\n",
      "Name: amenitas, dtype: int64\n",
      "--------------------------------------------------\n",
      " len y_train_s2 : \n",
      " 929\n",
      "y_train_s2 : \n",
      " 1    600\n",
      "0    329\n",
      "Name: amenitas, dtype: int64\n",
      "--------------------------------------------------\n",
      " len y_train_a3 : \n",
      " 2320\n",
      "y_train_a3 : \n",
      " 0    2045\n",
      "1     275\n",
      "Name: aksesibilitas, dtype: int64\n",
      "--------------------------------------------------\n",
      " len y_train_s3 : \n",
      " 275\n",
      "y_train_s3 : \n",
      " 1    164\n",
      "0    111\n",
      "Name: aksesibilitas, dtype: int64\n"
     ]
    }
   ],
   "source": [
    "print(' len y_train_a1 : \\n', len(y_train_a1))\n",
    "print('y_train_a1 : \\n', y_train_a1.value_counts())\n",
    "print('--------------------------------------------------')\n",
    "print(' len y_train_s1 : \\n', len(y_train_s1))\n",
    "print('y_train_s1 : \\n', y_train_s1.value_counts())\n",
    "print('--------------------------------------------------')\n",
    "print(' len y_train_a2 : \\n', len(y_train_a2))\n",
    "print('y_train_a2 : \\n', y_train_a2.value_counts())\n",
    "print('--------------------------------------------------')\n",
    "print(' len y_train_s2 : \\n', len(y_train_s2))\n",
    "print('y_train_s2 : \\n', y_train_s2.value_counts())\n",
    "print('--------------------------------------------------')\n",
    "print(' len y_train_a3 : \\n', len(y_train_a3))\n",
    "print('y_train_a3 : \\n', y_train_a3.value_counts())\n",
    "print('--------------------------------------------------')\n",
    "print(' len y_train_s3 : \\n', len(y_train_s3))\n",
    "print('y_train_s3 : \\n', y_train_s3.value_counts())"
   ]
  },
  {
   "cell_type": "markdown",
   "id": "87f59900",
   "metadata": {},
   "source": [
    "# Load Data Train dengan ROS"
   ]
  },
  {
   "cell_type": "code",
   "execution_count": 121,
   "id": "aa1447dc",
   "metadata": {},
   "outputs": [],
   "source": [
    "import pickle\n",
    "x_train_a1_ROS= pickle.load(open(\"x_train ROS\\\\x_train_a1_ROS.pickle\", \"rb\"))\n",
    "x_train_s1_ROS= pickle.load(open(\"x_train ROS\\\\x_train_s1_ROS.pickle\", \"rb\"))\n",
    "x_train_a2_ROS= pickle.load(open(\"x_train ROS\\\\x_train_a2_ROS.pickle\", \"rb\"))\n",
    "x_train_s2_ROS= pickle.load(open(\"x_train ROS\\\\x_train_s2_ROS.pickle\", \"rb\"))\n",
    "x_train_a3_ROS= pickle.load(open(\"x_train ROS\\\\x_train_a3_ROS.pickle\", \"rb\"))\n",
    "x_train_s3_ROS= pickle.load(open(\"x_train ROS\\\\x_train_s3_ROS.pickle\", \"rb\"))\n",
    "\n",
    "y_train_a1_ROS= pickle.load(open(\"y_train ROS\\\\y_train_a1_ROS.pickle\", \"rb\"))\n",
    "y_train_s1_ROS= pickle.load(open(\"y_train ROS\\\\y_train_s1_ROS.pickle\", \"rb\"))\n",
    "y_train_a2_ROS= pickle.load(open(\"y_train ROS\\\\y_train_a2_ROS.pickle\", \"rb\"))\n",
    "y_train_s2_ROS= pickle.load(open(\"y_train ROS\\\\y_train_s2_ROS.pickle\", \"rb\"))\n",
    "y_train_a3_ROS= pickle.load(open(\"y_train ROS\\\\y_train_a3_ROS.pickle\", \"rb\"))\n",
    "y_train_s3_ROS= pickle.load(open(\"y_train ROS\\\\y_train_s3_ROS.pickle\", \"rb\"))"
   ]
  },
  {
   "cell_type": "markdown",
   "id": "df41b2d5",
   "metadata": {},
   "source": [
    "### Hitung Jumlah Kemunculan Setiap Kelas pada Data Train RF tanpa ROS"
   ]
  },
  {
   "cell_type": "code",
   "execution_count": 122,
   "id": "473d12b1",
   "metadata": {},
   "outputs": [
    {
     "name": "stdout",
     "output_type": "stream",
     "text": [
      " len y_train_a1_ROS : \n",
      " 2744\n",
      "y_train_a1_ROS : \n",
      " 0    1372\n",
      "1    1372\n",
      "dtype: int64\n",
      "--------------------------------------------------\n",
      " len y_train_s1_ROS : \n",
      " 2474\n",
      "y_train_s1_ROS : \n",
      " 0    1237\n",
      "1    1237\n",
      "dtype: int64\n",
      "--------------------------------------------------\n",
      " len y_train_a2_ROS : \n",
      " 2782\n",
      "y_train_a2_ROS : \n",
      " 0    1391\n",
      "1    1391\n",
      "dtype: int64\n",
      "--------------------------------------------------\n",
      " len y_train_s2_ROS : \n",
      " 1200\n",
      "y_train_s2_ROS : \n",
      " 1    600\n",
      "0    600\n",
      "dtype: int64\n",
      "--------------------------------------------------\n",
      " len y_train_a3_ROS : \n",
      " 4090\n",
      "y_train_a3_ROS : \n",
      " 0    2045\n",
      "1    2045\n",
      "dtype: int64\n",
      "--------------------------------------------------\n",
      " len y_train_s3_ROS : \n",
      " 328\n",
      "y_train_s3_ROS : \n",
      " 0    164\n",
      "1    164\n",
      "dtype: int64\n"
     ]
    }
   ],
   "source": [
    "print(' len y_train_a1_ROS : \\n', len(y_train_a1_ROS))\n",
    "print('y_train_a1_ROS : \\n', y_train_a1_ROS.value_counts())\n",
    "print('--------------------------------------------------')\n",
    "print(' len y_train_s1_ROS : \\n', len(y_train_s1_ROS))\n",
    "print('y_train_s1_ROS : \\n', y_train_s1_ROS.value_counts())\n",
    "print('--------------------------------------------------')\n",
    "print(' len y_train_a2_ROS : \\n', len(y_train_a2_ROS))\n",
    "print('y_train_a2_ROS : \\n', y_train_a2_ROS.value_counts())\n",
    "print('--------------------------------------------------')\n",
    "print(' len y_train_s2_ROS : \\n', len(y_train_s2_ROS))\n",
    "print('y_train_s2_ROS : \\n', y_train_s2_ROS.value_counts())\n",
    "print('--------------------------------------------------')\n",
    "print(' len y_train_a3_ROS : \\n', len(y_train_a3_ROS))\n",
    "print('y_train_a3_ROS : \\n', y_train_a3_ROS.value_counts())\n",
    "print('--------------------------------------------------')\n",
    "print(' len y_train_s3_ROS : \\n', len(y_train_s3_ROS))\n",
    "print('y_train_s3_ROS : \\n', y_train_s3_ROS.value_counts())"
   ]
  },
  {
   "cell_type": "markdown",
   "id": "78b9f292",
   "metadata": {},
   "source": [
    "# Ekstraksi Fitur"
   ]
  },
  {
   "cell_type": "code",
   "execution_count": 123,
   "id": "aa3f9a76",
   "metadata": {},
   "outputs": [],
   "source": [
    "from sklearn.feature_extraction.text import TfidfVectorizer\n",
    "\n",
    "def tfidf_vectorizer(x_train):\n",
    "    vectorizer = TfidfVectorizer(sublinear_tf=True)\n",
    "    vecx_train = vectorizer.fit_transform(x_train).toarray()\n",
    "    return vecx_train, vectorizer"
   ]
  },
  {
   "cell_type": "markdown",
   "id": "e7101208",
   "metadata": {},
   "source": [
    "### Ekstraksi Fitur (TFIDF) Data Train RF tanpa ROS"
   ]
  },
  {
   "cell_type": "code",
   "execution_count": 124,
   "id": "6192a2f2",
   "metadata": {},
   "outputs": [],
   "source": [
    "x_train_a1_vect, vectorizer_a1 = tfidf_vectorizer(x_train_a1) \n",
    "x_train_s1_vect, vectorizer_s1 = tfidf_vectorizer(x_train_s1) \n",
    "x_train_a2_vect, vectorizer_a2 = tfidf_vectorizer(x_train_a2) \n",
    "x_train_s2_vect, vectorizer_s2 = tfidf_vectorizer(x_train_s2) \n",
    "x_train_a3_vect, vectorizer_a3 = tfidf_vectorizer(x_train_a3) \n",
    "x_train_s3_vect, vectorizer_s3 = tfidf_vectorizer(x_train_s3) "
   ]
  },
  {
   "cell_type": "code",
   "execution_count": 125,
   "id": "68fcdbc5",
   "metadata": {},
   "outputs": [],
   "source": [
    "def save_as_pkl(list_data, f_name):\n",
    "    pickle.dump(list_data, open(\"TFIDF RF/\" + f_name + \".pickle\", \"wb\"))\n",
    "    \n",
    "save_as_pkl(vectorizer_a1.vocabulary_, 'TFIDF_a1')\n",
    "save_as_pkl(vectorizer_a2.vocabulary_, 'TFIDF_a2')\n",
    "save_as_pkl(vectorizer_a3.vocabulary_, 'TFIDF_a3')\n",
    "save_as_pkl(vectorizer_s1.vocabulary_, 'TFIDF_s1')\n",
    "save_as_pkl(vectorizer_s2.vocabulary_, 'TFIDF_s2')\n",
    "save_as_pkl(vectorizer_s3.vocabulary_, 'TFIDF_s3')"
   ]
  },
  {
   "cell_type": "markdown",
   "id": "34c28eb8",
   "metadata": {},
   "source": [
    "### Ekstraksi Fitur (TFIDF) Data Train RF dengan ROS"
   ]
  },
  {
   "cell_type": "code",
   "execution_count": 126,
   "id": "99b3c20c",
   "metadata": {},
   "outputs": [],
   "source": [
    "x_train_a1_vect_ROS, vectorizer_a1_ROS = tfidf_vectorizer(x_train_a1_ROS) \n",
    "x_train_s1_vect_ROS, vectorizer_s1_ROS = tfidf_vectorizer(x_train_s1_ROS) \n",
    "x_train_a2_vect_ROS, vectorizer_a2_ROS = tfidf_vectorizer(x_train_a2_ROS) \n",
    "x_train_s2_vect_ROS, vectorizer_s2_ROS = tfidf_vectorizer(x_train_s2_ROS) \n",
    "x_train_a3_vect_ROS, vectorizer_a3_ROS = tfidf_vectorizer(x_train_a3_ROS) \n",
    "x_train_s3_vect_ROS, vectorizer_s3_ROS = tfidf_vectorizer(x_train_s3_ROS) "
   ]
  },
  {
   "cell_type": "code",
   "execution_count": 127,
   "id": "fe4e0e28",
   "metadata": {},
   "outputs": [],
   "source": [
    "def save_as_pkl(list_data, f_name):\n",
    "    pickle.dump(list_data, open(\"TFIDF RF ROS/\" + f_name + \".pickle\", \"wb\"))\n",
    "    \n",
    "save_as_pkl(vectorizer_a1_ROS.vocabulary_, 'TFIDF_a1_ROS')\n",
    "save_as_pkl(vectorizer_a2_ROS.vocabulary_, 'TFIDF_a2_ROS')\n",
    "save_as_pkl(vectorizer_a3_ROS.vocabulary_, 'TFIDF_a3_ROS')\n",
    "save_as_pkl(vectorizer_s1_ROS.vocabulary_, 'TFIDF_s1_ROS')\n",
    "save_as_pkl(vectorizer_s2_ROS.vocabulary_, 'TFIDF_s2_ROS')\n",
    "save_as_pkl(vectorizer_s3_ROS.vocabulary_, 'TFIDF_s3_ROS')"
   ]
  },
  {
   "cell_type": "markdown",
   "id": "b08bfff2",
   "metadata": {},
   "source": [
    "# Training Data"
   ]
  },
  {
   "cell_type": "code",
   "execution_count": 128,
   "id": "f9cf966f",
   "metadata": {},
   "outputs": [],
   "source": [
    "from sklearn.ensemble import RandomForestClassifier\n",
    "def train_data(x_train_vect, y_train):\n",
    "    model = RandomForestClassifier(random_state=42)\n",
    "    model.fit(x_train_vect, y_train)\n",
    "    return model "
   ]
  },
  {
   "cell_type": "markdown",
   "id": "b882c7f6",
   "metadata": {},
   "source": [
    "### Training Data RF tanpa ROS"
   ]
  },
  {
   "cell_type": "code",
   "execution_count": 133,
   "id": "6f4edd51",
   "metadata": {},
   "outputs": [],
   "source": [
    "RFModel_a1=train_data(x_train_a1_vect,y_train_a1)\n",
    "RFModel_s1=train_data(x_train_s1_vect,y_train_s1)\n",
    "RFModel_a2=train_data(x_train_a2_vect,y_train_a2)\n",
    "RFModel_s2=train_data(x_train_s2_vect,y_train_s2)\n",
    "RFModel_a3=train_data(x_train_a3_vect,y_train_a3)\n",
    "RFModel_s3=train_data(x_train_s3_vect,y_train_s3)"
   ]
  },
  {
   "cell_type": "code",
   "execution_count": 134,
   "id": "814feeb5",
   "metadata": {},
   "outputs": [],
   "source": [
    "def save_as_pkl(list_data, f_name):\n",
    "    pickle.dump(list_data, open(\"Model RF/\" + f_name + \".pickle\", \"wb\"))\n",
    "    \n",
    "save_as_pkl(RFModel_a1, 'RFModel_a1')\n",
    "save_as_pkl(RFModel_s1, 'RFModel_s1')\n",
    "save_as_pkl(RFModel_a2, 'RFModel_a2')\n",
    "save_as_pkl(RFModel_s2, 'RFModel_s2')\n",
    "save_as_pkl(RFModel_a3, 'RFModel_a3')\n",
    "save_as_pkl(RFModel_s3, 'RFModel_s3')"
   ]
  },
  {
   "cell_type": "markdown",
   "id": "e57b84e9",
   "metadata": {},
   "source": [
    "### Training Data RF dengan ROS"
   ]
  },
  {
   "cell_type": "code",
   "execution_count": 135,
   "id": "d2b99600",
   "metadata": {},
   "outputs": [],
   "source": [
    "RFModel_a1_ROS=train_data(x_train_a1_vect_ROS,y_train_a1_ROS)\n",
    "RFModel_s1_ROS=train_data(x_train_s1_vect_ROS,y_train_s1_ROS)\n",
    "RFModel_a2_ROS=train_data(x_train_a2_vect_ROS,y_train_a2_ROS)\n",
    "RFModel_s2_ROS=train_data(x_train_s2_vect_ROS,y_train_s2_ROS)\n",
    "RFModel_a3_ROS=train_data(x_train_a3_vect_ROS,y_train_a3_ROS)\n",
    "RFModel_s3_ROS=train_data(x_train_s3_vect_ROS,y_train_s3_ROS)"
   ]
  },
  {
   "cell_type": "code",
   "execution_count": 136,
   "id": "e1650eb1",
   "metadata": {},
   "outputs": [],
   "source": [
    "def save_as_pkl(list_data, f_name):\n",
    "    pickle.dump(list_data, open(\"Model RF ROS/\" + f_name + \".pickle\", \"wb\"))\n",
    "    \n",
    "save_as_pkl(RFModel_a1_ROS, 'RFModel_a1_ROS')\n",
    "save_as_pkl(RFModel_s1_ROS, 'RFModel_s1_ROS')\n",
    "save_as_pkl(RFModel_a2_ROS, 'RFModel_a2_ROS')\n",
    "save_as_pkl(RFModel_s2_ROS, 'RFModel_s2_ROS')\n",
    "save_as_pkl(RFModel_a3_ROS, 'RFModel_a3_ROS')\n",
    "save_as_pkl(RFModel_s3_ROS, 'RFModel_s3_ROS')"
   ]
  },
  {
   "cell_type": "markdown",
   "id": "a31ad92a",
   "metadata": {},
   "source": [
    "# Pengujian Pickle Model"
   ]
  },
  {
   "cell_type": "markdown",
   "id": "39c5fa8d",
   "metadata": {},
   "source": [
    "### memuat data test dengan vocabulary tfidf train pickle RF tanpa ROS"
   ]
  },
  {
   "cell_type": "code",
   "execution_count": 137,
   "id": "4b19fda5",
   "metadata": {},
   "outputs": [],
   "source": [
    "from sklearn.feature_extraction.text import TfidfVectorizer\n",
    "saved_vocabulary_a1 = pickle.load(open(\"TFIDF RF\\\\TFIDF_a1.pickle\", 'rb'))\n",
    "tfidf_a1 = TfidfVectorizer(sublinear_tf=True, vocabulary=saved_vocabulary_a1)\n",
    "\n",
    "saved_vocabulary_a2 = pickle.load(open(\"TFIDF RF\\\\TFIDF_a2.pickle\", 'rb'))\n",
    "tfidf_a2 = TfidfVectorizer(sublinear_tf=True, vocabulary=saved_vocabulary_a2)\n",
    "\n",
    "saved_vocabulary_a3 = pickle.load(open(\"TFIDF RF\\\\TFIDF_a3.pickle\", 'rb'))\n",
    "tfidf_a3 = TfidfVectorizer(sublinear_tf=True, vocabulary=saved_vocabulary_a3)\n",
    "\n",
    "saved_vocabulary_s1 = pickle.load(open(\"TFIDF RF\\\\TFIDF_s1.pickle\", 'rb'))\n",
    "tfidf_s1 = TfidfVectorizer(sublinear_tf=True, vocabulary=saved_vocabulary_s1)\n",
    "\n",
    "saved_vocabulary_s2 = pickle.load(open(\"TFIDF RF\\\\TFIDF_s2.pickle\", 'rb'))\n",
    "tfidf_s2 = TfidfVectorizer(sublinear_tf=True, vocabulary=saved_vocabulary_s2)\n",
    "\n",
    "saved_vocabulary_s3 = pickle.load(open(\"TFIDF RF\\\\TFIDF_s3.pickle\", 'rb'))  \n",
    "tfidf_s3 = TfidfVectorizer(sublinear_tf=True, vocabulary=saved_vocabulary_s3)"
   ]
  },
  {
   "cell_type": "code",
   "execution_count": 138,
   "id": "ae4c75b0",
   "metadata": {},
   "outputs": [],
   "source": [
    "x_test_a1_vect= tfidf_a1.fit_transform(x_test_a1).toarray()\n",
    "x_test_a2_vect= tfidf_a2.fit_transform(x_test_a2).toarray()\n",
    "x_test_a3_vect= tfidf_a3.fit_transform(x_test_a3).toarray()\n",
    "x_test_s1_vect= tfidf_s1.fit_transform(x_test_s1).toarray()\n",
    "x_test_s2_vect= tfidf_s2.fit_transform(x_test_s2).toarray()\n",
    "x_test_s3_vect= tfidf_s3.fit_transform(x_test_s3).toarray()"
   ]
  },
  {
   "cell_type": "markdown",
   "id": "183f7632",
   "metadata": {},
   "source": [
    "### memuat data test dengan vocabulary tfidf train pickle RF dengan ROS"
   ]
  },
  {
   "cell_type": "code",
   "execution_count": 139,
   "id": "0bea8a41",
   "metadata": {},
   "outputs": [],
   "source": [
    "from sklearn.feature_extraction.text import TfidfVectorizer\n",
    "saved_vocabulary_a1_ROS = pickle.load(open(\"TFIDF RF ROS\\\\TFIDF_a1_ROS.pickle\", 'rb'))\n",
    "tfidf_a1_ROS = TfidfVectorizer(sublinear_tf=True, vocabulary=saved_vocabulary_a1)\n",
    "saved_vocabulary_a2_ROS = pickle.load(open(\"TFIDF RF ROS\\\\TFIDF_a2_ROS.pickle\", 'rb'))\n",
    "tfidf_a2_ROS = TfidfVectorizer(sublinear_tf=True, vocabulary=saved_vocabulary_a2)\n",
    "saved_vocabulary_a3_ROS = pickle.load(open(\"TFIDF RF ROS\\\\TFIDF_a3_ROS.pickle\", 'rb'))\n",
    "tfidf_a3_ROS = TfidfVectorizer(sublinear_tf=True, vocabulary=saved_vocabulary_a3)\n",
    "saved_vocabulary_s1_ROS = pickle.load(open(\"TFIDF RF ROS\\\\TFIDF_s1_ROS.pickle\", 'rb'))\n",
    "tfidf_s1_ROS = TfidfVectorizer(sublinear_tf=True, vocabulary=saved_vocabulary_s1)\n",
    "saved_vocabulary_s2_ROS = pickle.load(open(\"TFIDF RF ROS\\\\TFIDF_s2_ROS.pickle\", 'rb'))\n",
    "tfidf_s2_ROS = TfidfVectorizer(sublinear_tf=True, vocabulary=saved_vocabulary_s2)\n",
    "saved_vocabulary_s3_ROS = pickle.load(open(\"TFIDF RF ROS\\\\TFIDF_s3_ROS.pickle\", 'rb'))  \n",
    "tfidf_s3_ROS = TfidfVectorizer(sublinear_tf=True, vocabulary=saved_vocabulary_s3)"
   ]
  },
  {
   "cell_type": "code",
   "execution_count": 140,
   "id": "063a0e96",
   "metadata": {},
   "outputs": [],
   "source": [
    "x_test_a1_vect_ROS= tfidf_a1_ROS.fit_transform(x_test_a1).toarray()\n",
    "x_test_a2_vect_ROS= tfidf_a2_ROS.fit_transform(x_test_a2).toarray()\n",
    "x_test_a3_vect_ROS= tfidf_a3_ROS.fit_transform(x_test_a3).toarray()\n",
    "x_test_s1_vect_ROS= tfidf_s1_ROS.fit_transform(x_test_s1).toarray()\n",
    "x_test_s2_vect_ROS= tfidf_s2_ROS.fit_transform(x_test_s2).toarray()\n",
    "x_test_s3_vect_ROS= tfidf_s3_ROS.fit_transform(x_test_s3).toarray()"
   ]
  },
  {
   "cell_type": "markdown",
   "id": "7260afb1",
   "metadata": {},
   "source": [
    "### Load pickle model RF tanpa ROS"
   ]
  },
  {
   "cell_type": "code",
   "execution_count": 141,
   "id": "5d07981c",
   "metadata": {},
   "outputs": [],
   "source": [
    "import pickle\n",
    "model_a1 = pickle.load(open('Model RF/RFModel_a1.pickle','rb'))\n",
    "model_a2 = pickle.load(open('Model RF/RFModel_a2.pickle','rb'))\n",
    "model_a3 = pickle.load(open('Model RF/RFModel_a3.pickle','rb'))\n",
    "model_s1 = pickle.load(open('Model RF/RFModel_s1.pickle','rb'))\n",
    "model_s2 = pickle.load(open('Model RF/RFModel_s2.pickle','rb'))\n",
    "model_s3 = pickle.load(open('Model RF/RFModel_s3.pickle','rb'))"
   ]
  },
  {
   "cell_type": "markdown",
   "id": "3e12580c",
   "metadata": {},
   "source": [
    "### Load pickle model RF dengan ROS"
   ]
  },
  {
   "cell_type": "code",
   "execution_count": 142,
   "id": "36b4d7a2",
   "metadata": {},
   "outputs": [],
   "source": [
    "import pickle\n",
    "model_a1_ROS = pickle.load(open('Model RF ROS/RFModel_a1_ROS.pickle','rb'))\n",
    "model_a2_ROS = pickle.load(open('Model RF ROS/RFModel_a2_ROS.pickle','rb'))\n",
    "model_a3_ROS = pickle.load(open('Model RF ROS/RFModel_a3_ROS.pickle','rb'))\n",
    "model_s1_ROS = pickle.load(open('Model RF ROS/RFModel_s1_ROS.pickle','rb'))\n",
    "model_s2_ROS = pickle.load(open('Model RF ROS/RFModel_s2_ROS.pickle','rb'))\n",
    "model_s3_ROS = pickle.load(open('Model RF ROS/RFModel_s3_ROS.pickle','rb'))"
   ]
  },
  {
   "cell_type": "code",
   "execution_count": 146,
   "id": "67f62aa6",
   "metadata": {},
   "outputs": [],
   "source": [
    "from sklearn import metrics\n",
    "from sklearn.metrics import classification_report, confusion_matrix\n",
    "import numpy as np\n",
    "from sklearn.metrics import balanced_accuracy_score\n",
    "from imblearn.metrics import geometric_mean_score\n",
    "\n",
    "def evaluate_model(model, vectorized_data, label):\n",
    "    x_test = vectorized_data\n",
    "    y_pred = model.predict(x_test)\n",
    "    tp = np.sum(label * y_pred)\n",
    "    fp = np.sum((label == 0) * y_pred)\n",
    "    tn = np.sum((label==0) * (y_pred==0))\n",
    "    fn = np.sum(label * (y_pred==0))\n",
    "    print(\"True positive: \", tp)\n",
    "    print(\"False negative: \", fn)\n",
    "    print(\"False positive: \", fp)\n",
    "    print(\"True negative: \", tn)\n",
    "    print(metrics.confusion_matrix(label, y_pred))\n",
    "    print(metrics.classification_report(label, y_pred))\n",
    "    print(\"geometric_mean_score:\",geometric_mean_score(label, y_pred))\n",
    "    print(\"F-1Score:\",metrics.f1_score(label, y_pred, average='macro'))\n",
    "    print(\"balanced_accuracy_score:\",balanced_accuracy_score(label, y_pred))"
   ]
  },
  {
   "cell_type": "markdown",
   "id": "ffdd9d82",
   "metadata": {},
   "source": [
    "### Evaluasi model RF tanpa ROS"
   ]
  },
  {
   "cell_type": "code",
   "execution_count": 147,
   "id": "7aedda57",
   "metadata": {},
   "outputs": [
    {
     "name": "stdout",
     "output_type": "stream",
     "text": [
      "--------------------- MODEL A1 -------------------\n",
      "True positive:  325\n",
      "False negative:  28\n",
      "False positive:  53\n",
      "True negative:  174\n",
      "[[174  53]\n",
      " [ 28 325]]\n",
      "              precision    recall  f1-score   support\n",
      "\n",
      "           0       0.86      0.77      0.81       227\n",
      "           1       0.86      0.92      0.89       353\n",
      "\n",
      "    accuracy                           0.86       580\n",
      "   macro avg       0.86      0.84      0.85       580\n",
      "weighted avg       0.86      0.86      0.86       580\n",
      "\n",
      "geometric_mean_score: 0.8400710592014632\n",
      "F-1Score: 0.8501908488228598\n",
      "balanced_accuracy_score: 0.8435998552370494\n",
      "None\n",
      "--------------------------------------------------\n",
      "--------------------- MODEL A2 -------------------\n",
      "True positive:  127\n",
      "False negative:  69\n",
      "False positive:  18\n",
      "True negative:  366\n",
      "[[366  18]\n",
      " [ 69 127]]\n",
      "              precision    recall  f1-score   support\n",
      "\n",
      "           0       0.84      0.95      0.89       384\n",
      "           1       0.88      0.65      0.74       196\n",
      "\n",
      "    accuracy                           0.85       580\n",
      "   macro avg       0.86      0.80      0.82       580\n",
      "weighted avg       0.85      0.85      0.84       580\n",
      "\n",
      "geometric_mean_score: 0.7858664625359549\n",
      "F-1Score: 0.8193204644817549\n",
      "balanced_accuracy_score: 0.8005420918367347\n",
      "None\n",
      "--------------------------------------------------\n",
      "--------------------- MODEL A3 -------------------\n",
      "True positive:  55\n",
      "False negative:  13\n",
      "False positive:  5\n",
      "True negative:  507\n",
      "[[507   5]\n",
      " [ 13  55]]\n",
      "              precision    recall  f1-score   support\n",
      "\n",
      "           0       0.97      0.99      0.98       512\n",
      "           1       0.92      0.81      0.86        68\n",
      "\n",
      "    accuracy                           0.97       580\n",
      "   macro avg       0.95      0.90      0.92       580\n",
      "weighted avg       0.97      0.97      0.97       580\n",
      "\n",
      "geometric_mean_score: 0.894944055308684\n",
      "F-1Score: 0.9209665697674418\n",
      "balanced_accuracy_score: 0.8995289522058824\n",
      "None\n",
      "--------------------------------------------------\n",
      "--------------------- MODEL S1 -------------------\n",
      "True positive:  323\n",
      "False negative:  0\n",
      "False positive:  15\n",
      "True negative:  15\n",
      "[[ 15  15]\n",
      " [  0 323]]\n",
      "              precision    recall  f1-score   support\n",
      "\n",
      "           0       1.00      0.50      0.67        30\n",
      "           1       0.96      1.00      0.98       323\n",
      "\n",
      "    accuracy                           0.96       353\n",
      "   macro avg       0.98      0.75      0.82       353\n",
      "weighted avg       0.96      0.96      0.95       353\n",
      "\n",
      "geometric_mean_score: 0.7071067811865476\n",
      "F-1Score: 0.821986888552698\n",
      "balanced_accuracy_score: 0.75\n",
      "None\n",
      "--------------------------------------------------\n",
      "--------------------- MODEL S2 -------------------\n",
      "True positive:  122\n",
      "False negative:  4\n",
      "False positive:  19\n",
      "True negative:  51\n",
      "[[ 51  19]\n",
      " [  4 122]]\n",
      "              precision    recall  f1-score   support\n",
      "\n",
      "           0       0.93      0.73      0.82        70\n",
      "           1       0.87      0.97      0.91       126\n",
      "\n",
      "    accuracy                           0.88       196\n",
      "   macro avg       0.90      0.85      0.86       196\n",
      "weighted avg       0.89      0.88      0.88       196\n",
      "\n",
      "geometric_mean_score: 0.8399060524074989\n",
      "F-1Score: 0.8649288389513108\n",
      "balanced_accuracy_score: 0.8484126984126984\n",
      "None\n",
      "--------------------------------------------------\n",
      "--------------------- MODEL S3 -------------------\n",
      "True positive:  34\n",
      "False negative:  4\n",
      "False positive:  6\n",
      "True negative:  24\n",
      "[[24  6]\n",
      " [ 4 34]]\n",
      "              precision    recall  f1-score   support\n",
      "\n",
      "           0       0.86      0.80      0.83        30\n",
      "           1       0.85      0.89      0.87        38\n",
      "\n",
      "    accuracy                           0.85        68\n",
      "   macro avg       0.85      0.85      0.85        68\n",
      "weighted avg       0.85      0.85      0.85        68\n",
      "\n",
      "geometric_mean_score: 0.8460434230488472\n",
      "F-1Score: 0.8496905393457118\n",
      "balanced_accuracy_score: 0.8473684210526315\n",
      "None\n"
     ]
    }
   ],
   "source": [
    "print('--------------------- MODEL A1 -------------------')\n",
    "print(evaluate_model(model_a1, x_test_a1_vect, y_test_a1))\n",
    "print('--------------------------------------------------')\n",
    "print('--------------------- MODEL A2 -------------------')\n",
    "print(evaluate_model(model_a2, x_test_a2_vect, y_test_a2))\n",
    "print('--------------------------------------------------')\n",
    "print('--------------------- MODEL A3 -------------------')\n",
    "print(evaluate_model(model_a3, x_test_a3_vect, y_test_a3))\n",
    "print('--------------------------------------------------')\n",
    "print('--------------------- MODEL S1 -------------------')\n",
    "print(evaluate_model(model_s1, x_test_s1_vect, y_test_s1))\n",
    "print('--------------------------------------------------')\n",
    "print('--------------------- MODEL S2 -------------------')\n",
    "print(evaluate_model(model_s2, x_test_s2_vect, y_test_s2))\n",
    "print('--------------------------------------------------')\n",
    "print('--------------------- MODEL S3 -------------------')\n",
    "print(evaluate_model(model_s3, x_test_s3_vect, y_test_s3))"
   ]
  },
  {
   "cell_type": "markdown",
   "id": "1e33243a",
   "metadata": {},
   "source": [
    "### Evaluasi model RF dengan ROS"
   ]
  },
  {
   "cell_type": "code",
   "execution_count": 148,
   "id": "b16a0158",
   "metadata": {},
   "outputs": [
    {
     "name": "stdout",
     "output_type": "stream",
     "text": [
      "--------------------- MODEL A1 ROS -------------------\n",
      "True positive:  299\n",
      "False negative:  54\n",
      "False positive:  23\n",
      "True negative:  204\n",
      "[[204  23]\n",
      " [ 54 299]]\n",
      "              precision    recall  f1-score   support\n",
      "\n",
      "           0       0.79      0.90      0.84       227\n",
      "           1       0.93      0.85      0.89       353\n",
      "\n",
      "    accuracy                           0.87       580\n",
      "   macro avg       0.86      0.87      0.86       580\n",
      "weighted avg       0.87      0.87      0.87       580\n",
      "\n",
      "geometric_mean_score: 0.8724697869960316\n",
      "F-1Score: 0.8635815196639939\n",
      "balanced_accuracy_score: 0.8728519549238123\n",
      "None\n",
      "--------------------------------------------------\n",
      "--------------------- MODEL A2 ROS -------------------\n",
      "True positive:  146\n",
      "False negative:  50\n",
      "False positive:  32\n",
      "True negative:  352\n",
      "[[352  32]\n",
      " [ 50 146]]\n",
      "              precision    recall  f1-score   support\n",
      "\n",
      "           0       0.88      0.92      0.90       384\n",
      "           1       0.82      0.74      0.78       196\n",
      "\n",
      "    accuracy                           0.86       580\n",
      "   macro avg       0.85      0.83      0.84       580\n",
      "weighted avg       0.86      0.86      0.86       580\n",
      "\n",
      "geometric_mean_score: 0.8263311256703941\n",
      "F-1Score: 0.8382114816780286\n",
      "balanced_accuracy_score: 0.8307823129251701\n",
      "None\n",
      "--------------------------------------------------\n",
      "--------------------- MODEL A3 ROS -------------------\n",
      "True positive:  59\n",
      "False negative:  9\n",
      "False positive:  7\n",
      "True negative:  505\n",
      "[[505   7]\n",
      " [  9  59]]\n",
      "              precision    recall  f1-score   support\n",
      "\n",
      "           0       0.98      0.99      0.98       512\n",
      "           1       0.89      0.87      0.88        68\n",
      "\n",
      "    accuracy                           0.97       580\n",
      "   macro avg       0.94      0.93      0.93       580\n",
      "weighted avg       0.97      0.97      0.97       580\n",
      "\n",
      "geometric_mean_score: 0.9250863185082657\n",
      "F-1Score: 0.9325012365075208\n",
      "balanced_accuracy_score: 0.9269875919117647\n",
      "None\n",
      "--------------------------------------------------\n",
      "--------------------- MODEL S1 ROS -------------------\n",
      "True positive:  310\n",
      "False negative:  13\n",
      "False positive:  4\n",
      "True negative:  26\n",
      "[[ 26   4]\n",
      " [ 13 310]]\n",
      "              precision    recall  f1-score   support\n",
      "\n",
      "           0       0.67      0.87      0.75        30\n",
      "           1       0.99      0.96      0.97       323\n",
      "\n",
      "    accuracy                           0.95       353\n",
      "   macro avg       0.83      0.91      0.86       353\n",
      "weighted avg       0.96      0.95      0.95       353\n",
      "\n",
      "geometric_mean_score: 0.91202266732644\n",
      "F-1Score: 0.8634677951448138\n",
      "balanced_accuracy_score: 0.9132094943240454\n",
      "None\n",
      "--------------------------------------------------\n",
      "--------------------- MODEL S2 ROS -------------------\n",
      "True positive:  118\n",
      "False negative:  8\n",
      "False positive:  11\n",
      "True negative:  59\n",
      "[[ 59  11]\n",
      " [  8 118]]\n",
      "              precision    recall  f1-score   support\n",
      "\n",
      "           0       0.88      0.84      0.86        70\n",
      "           1       0.91      0.94      0.93       126\n",
      "\n",
      "    accuracy                           0.90       196\n",
      "   macro avg       0.90      0.89      0.89       196\n",
      "weighted avg       0.90      0.90      0.90       196\n",
      "\n",
      "geometric_mean_score: 0.8884494378568304\n",
      "F-1Score: 0.893402032345785\n",
      "balanced_accuracy_score: 0.8896825396825396\n",
      "None\n",
      "--------------------------------------------------\n",
      "--------------------- MODEL S3 ROS -------------------\n",
      "True positive:  34\n",
      "False negative:  4\n",
      "False positive:  2\n",
      "True negative:  28\n",
      "[[28  2]\n",
      " [ 4 34]]\n",
      "              precision    recall  f1-score   support\n",
      "\n",
      "           0       0.88      0.93      0.90        30\n",
      "           1       0.94      0.89      0.92        38\n",
      "\n",
      "    accuracy                           0.91        68\n",
      "   macro avg       0.91      0.91      0.91        68\n",
      "weighted avg       0.91      0.91      0.91        68\n",
      "\n",
      "geometric_mean_score: 0.9138313407288271\n",
      "F-1Score: 0.9110723626852659\n",
      "balanced_accuracy_score: 0.9140350877192982\n",
      "None\n"
     ]
    }
   ],
   "source": [
    "print('--------------------- MODEL A1 ROS -------------------')\n",
    "print(evaluate_model(model_a1_ROS, x_test_a1_vect_ROS, y_test_a1))\n",
    "print('--------------------------------------------------')\n",
    "print('--------------------- MODEL A2 ROS -------------------')\n",
    "print(evaluate_model(model_a2_ROS, x_test_a2_vect_ROS, y_test_a2))\n",
    "print('--------------------------------------------------')\n",
    "print('--------------------- MODEL A3 ROS -------------------')\n",
    "print(evaluate_model(model_a3_ROS, x_test_a3_vect_ROS, y_test_a3))\n",
    "print('--------------------------------------------------')\n",
    "print('--------------------- MODEL S1 ROS -------------------')\n",
    "print(evaluate_model(model_s1_ROS, x_test_s1_vect_ROS, y_test_s1))\n",
    "print('--------------------------------------------------')\n",
    "print('--------------------- MODEL S2 ROS -------------------')\n",
    "print(evaluate_model(model_s2_ROS, x_test_s2_vect_ROS, y_test_s2))\n",
    "print('--------------------------------------------------')\n",
    "print('--------------------- MODEL S3 ROS -------------------')\n",
    "print(evaluate_model(model_s3_ROS, x_test_s3_vect_ROS, y_test_s3))"
   ]
  }
 ],
 "metadata": {
  "kernelspec": {
   "display_name": "Python 3 (ipykernel)",
   "language": "python",
   "name": "python3"
  },
  "language_info": {
   "codemirror_mode": {
    "name": "ipython",
    "version": 3
   },
   "file_extension": ".py",
   "mimetype": "text/x-python",
   "name": "python",
   "nbconvert_exporter": "python",
   "pygments_lexer": "ipython3",
   "version": "3.10.2"
  }
 },
 "nbformat": 4,
 "nbformat_minor": 5
}
