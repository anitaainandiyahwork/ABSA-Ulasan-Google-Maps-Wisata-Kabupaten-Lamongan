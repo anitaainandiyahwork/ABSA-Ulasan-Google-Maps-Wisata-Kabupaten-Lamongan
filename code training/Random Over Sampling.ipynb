{
 "cells": [
  {
   "cell_type": "markdown",
   "id": "e9a2adde",
   "metadata": {},
   "source": [
    "# Random Over Sampling"
   ]
  },
  {
   "cell_type": "code",
   "execution_count": 31,
   "id": "cdca167b",
   "metadata": {},
   "outputs": [],
   "source": [
    "import pandas as pd\n",
    "import random\n",
    "import pickle"
   ]
  },
  {
   "cell_type": "code",
   "execution_count": 32,
   "id": "0c2a7080",
   "metadata": {},
   "outputs": [],
   "source": [
    "x_train_a1= pickle.load(open(\"x_train\\\\x_train_a1.pickle\", \"rb\")).tolist()\n",
    "x_train_s1= pickle.load(open(\"x_train\\\\x_train_s1.pickle\", \"rb\")).tolist()\n",
    "x_train_a2= pickle.load(open(\"x_train\\\\x_train_a2.pickle\", \"rb\")).tolist()\n",
    "x_train_s2= pickle.load(open(\"x_train\\\\x_train_s2.pickle\", \"rb\")).tolist()\n",
    "x_train_a3= pickle.load(open(\"x_train\\\\x_train_a3.pickle\", \"rb\")).tolist()\n",
    "x_train_s3= pickle.load(open(\"x_train\\\\x_train_s3.pickle\", \"rb\")).tolist()\n",
    "y_train_a1= pickle.load(open(\"y_train\\\\y_train_a1.pickle\", \"rb\")).tolist()\n",
    "y_train_s1= pickle.load(open(\"y_train\\\\y_train_s1.pickle\", \"rb\")).tolist()\n",
    "y_train_a2= pickle.load(open(\"y_train\\\\y_train_a2.pickle\", \"rb\")).tolist()\n",
    "y_train_s2= pickle.load(open(\"y_train\\\\y_train_s2.pickle\", \"rb\")).tolist()\n",
    "y_train_a3= pickle.load(open(\"y_train\\\\y_train_a3.pickle\", \"rb\")).tolist()\n",
    "y_train_s3= pickle.load(open(\"y_train\\\\y_train_s3.pickle\", \"rb\")).tolist()"
   ]
  },
  {
   "cell_type": "code",
   "execution_count": 33,
   "id": "67a12204",
   "metadata": {},
   "outputs": [],
   "source": [
    "def acak_data(X, y):#menerima dua parameter, X dan y, yang merupakan data yang akan diacak.\n",
    "    X_ROS = list()#simpan X data yang sudah diacak.\n",
    "    y_ROS = list()#simpan data y yang sudah diacak.\n",
    "    temp = list()#simpan indeks dari data\n",
    "    n = len(y)#simpan jumlah data dalam y.\n",
    "    for i in range(n):#setiap indeks data dari 0 hingga n-1 ditambahkan ke dalam temp\n",
    "        temp.append(i)\n",
    "    \n",
    "    random.shuffle(temp)#acak urutan indeks dalam temp\n",
    "    for data in temp:#setiap data dalam temp digunakan untuk mengambil data terkait dari X dan y dan dimasukkan ke X_ROS dan y_ROS\n",
    "        X_ROS.append(X[data])\n",
    "        y_ROS.append(y[data])\n",
    "        \n",
    "    return X_ROS, y_ROS#X_ROS dan y_ROS dikembalikan sebagai hasil dari fungsi\n",
    "    \n",
    "\n",
    "def ROS(X, y):#menerima dua parameter, X dan y, yang merupakan data yang akan dilakukan oversampling.\n",
    "    jum_0 = y.count(0) ;  X_ROS = X #diinisialisasi dengan X dan y awal.\n",
    "    jum_1 = y.count(1) ;  y_ROS = y #diinisialisasi dengan X dan y awal.\n",
    "    \n",
    "    if jum_0 > jum_1:\n",
    "        temp = list()#Variabel temp dibuat kosong untuk menyimpan data dengan kelas 1\n",
    "        for i, data in enumerate(X):#setiap data dengan kelas 1 dari X dan y ditambahkan ke dalam temp.\n",
    "            if y[i] == 1:\n",
    "                temp.append(data)  \n",
    "        for i in range(jum_0 - jum_1):#sebanyak jum_0 - jum_1 kali,akan dilakukan oversampling dengan cara memilih secara acak \n",
    "#data dari temp (data dengan kelas 1) dan menambahkannya ke X_ROS dan y_ROS dengan kelas 1.\n",
    "            rand_index = random.randint(0, len(temp)-1)\n",
    "            X_ROS.append(temp[rand_index])\n",
    "            y_ROS.append(1)\n",
    "    else:\n",
    "        temp = list()#menyimpan data dengan kelas 0.\n",
    "        for i, data in enumerate(X):#setiap data dengan kelas 0 dari X dan y ditambahkan ke dalam temp.\n",
    "            if y[i] == 0:\n",
    "                temp.append(data)\n",
    "                \n",
    "        for i in range(jum_1 - jum_0):#sebanyak jum_1 - jum_0 kali, akan dilakukan oversampling dengan cara memilih secara acak data dari temp (data dengan kelas 0) dan menambahkannya ke X_ROS dan y_ROS dengan kelas 0.\n",
    "            rand_index = random.randint(0, len(temp)-1)\n",
    "            X_ROS.append(temp[rand_index])\n",
    "            y_ROS.append(0)\n",
    "\n",
    "    return acak_data(X_ROS, y_ROS)#fungsi acak_data dipanggil dengan X_ROS dan y_ROS sebagai parameter untuk mengacak urutan data dan mengembalikan hasilnya"
   ]
  },
  {
   "cell_type": "code",
   "execution_count": 36,
   "id": "c10a1d1f",
   "metadata": {},
   "outputs": [],
   "source": [
    "x_train_a1_ROS, y_train_a1_ROS = ROS(x_train_a1, y_train_a1)\n",
    "x_train_a2_ROS, y_train_a2_ROS = ROS(x_train_a2, y_train_a2)\n",
    "x_train_a3_ROS, y_train_a3_ROS = ROS(x_train_a3, y_train_a3)\n",
    "x_train_s1_ROS, y_train_s1_ROS = ROS(x_train_s1, y_train_s1)\n",
    "x_train_s2_ROS, y_train_s2_ROS = ROS(x_train_s2, y_train_s2)\n",
    "x_train_s3_ROS, y_train_s3_ROS = ROS(x_train_s3, y_train_s3)"
   ]
  },
  {
   "cell_type": "code",
   "execution_count": 37,
   "id": "7409df81",
   "metadata": {},
   "outputs": [],
   "source": [
    "x_train_a1_ROS = pd.Series(x_train_a1_ROS)\n",
    "y_train_a1_ROS = pd.Series(y_train_a1_ROS)\n",
    "x_train_a2_ROS = pd.Series(x_train_a2_ROS)\n",
    "y_train_a2_ROS= pd.Series(y_train_a2_ROS)\n",
    "x_train_a3_ROS = pd.Series(x_train_a3_ROS)\n",
    "y_train_a3_ROS = pd.Series(y_train_a3_ROS)\n",
    "x_train_s1_ROS = pd.Series(x_train_s1_ROS)\n",
    "y_train_s1_ROS = pd.Series(y_train_s1_ROS)\n",
    "x_train_s2_ROS = pd.Series(x_train_s2_ROS)\n",
    "y_train_s2_ROS = pd.Series(y_train_s2_ROS)\n",
    "x_train_s3_ROS = pd.Series(x_train_s3_ROS)\n",
    "y_train_s3_ROS = pd.Series(y_train_s3_ROS)"
   ]
  },
  {
   "cell_type": "code",
   "execution_count": 38,
   "id": "477279bb",
   "metadata": {},
   "outputs": [
    {
     "name": "stdout",
     "output_type": "stream",
     "text": [
      " len data train aspek atraksi sesudah ROS  :  2744\n",
      " data train aspek atraksi sesudah ROS : \n",
      " 0    1372\n",
      "1    1372\n",
      "dtype: int64\n",
      " len data train aspek amenitas sesudah ROS  :  2782\n",
      " data train aspek amenitas sesudah ROS : \n",
      " 0    1391\n",
      "1    1391\n",
      "dtype: int64\n",
      " len data train aspek aksesibilitas sesudah ROS  :  4090\n",
      " data train aspek aksesibilitas sesudah ROS : \n",
      " 0    2045\n",
      "1    2045\n",
      "dtype: int64\n"
     ]
    }
   ],
   "source": [
    "print(' len data train aspek atraksi sesudah ROS  : ',len(x_train_a1_ROS))\n",
    "print(' data train aspek atraksi sesudah ROS : \\n', y_train_a1_ROS.value_counts())\n",
    "print(' len data train aspek amenitas sesudah ROS  : ',len(x_train_a2_ROS))\n",
    "print(' data train aspek amenitas sesudah ROS : \\n', y_train_a2_ROS.value_counts())\n",
    "print(' len data train aspek aksesibilitas sesudah ROS  : ',len(x_train_a3_ROS))\n",
    "print(' data train aspek aksesibilitas sesudah ROS : \\n', y_train_a3_ROS.value_counts())"
   ]
  },
  {
   "cell_type": "code",
   "execution_count": 39,
   "id": "a4c07891",
   "metadata": {},
   "outputs": [
    {
     "name": "stdout",
     "output_type": "stream",
     "text": [
      " len data train sentimen atraksi sesudah ROS  :  2474\n",
      " data train sentimen atraksi sesudah ROS : \n",
      " 0    1237\n",
      "1    1237\n",
      "dtype: int64\n",
      " len data train sentimen amenitas sesudah ROS  :  1200\n",
      " data train sentimen amenitas sesudah ROS : \n",
      " 1    600\n",
      "0    600\n",
      "dtype: int64\n",
      " len data train sentimen aksesibilitas sesudah ROS  :  328\n",
      " data train sentimen aksesibilitas sesudah ROS : \n",
      " 0    164\n",
      "1    164\n",
      "dtype: int64\n"
     ]
    }
   ],
   "source": [
    "print(' len data train sentimen atraksi sesudah ROS  : ',len(x_train_s1_ROS))\n",
    "print(' data train sentimen atraksi sesudah ROS : \\n', y_train_s1_ROS.value_counts())\n",
    "print(' len data train sentimen amenitas sesudah ROS  : ',len(x_train_s2_ROS))\n",
    "print(' data train sentimen amenitas sesudah ROS : \\n', y_train_s2_ROS.value_counts())\n",
    "print(' len data train sentimen aksesibilitas sesudah ROS  : ',len(x_train_s3_ROS))\n",
    "print(' data train sentimen aksesibilitas sesudah ROS : \\n', y_train_s3_ROS.value_counts())"
   ]
  },
  {
   "cell_type": "code",
   "execution_count": 40,
   "id": "e036b795",
   "metadata": {},
   "outputs": [],
   "source": [
    "#Dokumentasi Hasil split data\n",
    "import pickle\n",
    "\n",
    "def save_x_train(list_data, f_name):\n",
    "    pickle.dump(list_data, open(\"x_train ROS/\" + f_name + \".pickle\", \"wb\"))\n",
    "\n",
    "save_x_train(x_train_a1_ROS, 'x_train_a1_ROS')\n",
    "save_x_train(x_train_a2_ROS, 'x_train_a2_ROS')\n",
    "save_x_train(x_train_a3_ROS, 'x_train_a3_ROS')\n",
    "\n",
    "save_x_train(x_train_s1_ROS, 'x_train_s1_ROS')\n",
    "save_x_train(x_train_s2_ROS, 'x_train_s2_ROS')\n",
    "save_x_train(x_train_s3_ROS, 'x_train_s3_ROS')\n",
    "\n",
    "#--------------------------------------\n",
    "\n",
    "def save_y_train(list_data, f_name):\n",
    "    pickle.dump(list_data, open(\"y_train ROS/\" + f_name + \".pickle\", \"wb\"))\n",
    "\n",
    "save_y_train(y_train_a1_ROS, 'y_train_a1_ROS')\n",
    "save_y_train(y_train_a2_ROS, 'y_train_a2_ROS')\n",
    "save_y_train(y_train_a3_ROS, 'y_train_a3_ROS')\n",
    "\n",
    "save_y_train(y_train_s1_ROS, 'y_train_s1_ROS')\n",
    "save_y_train(y_train_s2_ROS, 'y_train_s2_ROS')\n",
    "save_y_train(y_train_s3_ROS, 'y_train_s3_ROS')"
   ]
  },
  {
   "cell_type": "code",
   "execution_count": null,
   "id": "63c03dfc",
   "metadata": {},
   "outputs": [],
   "source": []
  },
  {
   "cell_type": "code",
   "execution_count": null,
   "id": "cf63ac1d",
   "metadata": {},
   "outputs": [],
   "source": []
  },
  {
   "cell_type": "code",
   "execution_count": null,
   "id": "dd976031",
   "metadata": {},
   "outputs": [],
   "source": []
  },
  {
   "cell_type": "code",
   "execution_count": null,
   "id": "3ff3e02b",
   "metadata": {},
   "outputs": [],
   "source": []
  },
  {
   "cell_type": "code",
   "execution_count": null,
   "id": "540051bc",
   "metadata": {},
   "outputs": [],
   "source": []
  },
  {
   "cell_type": "code",
   "execution_count": null,
   "id": "dcea17bd",
   "metadata": {},
   "outputs": [],
   "source": []
  },
  {
   "cell_type": "code",
   "execution_count": null,
   "id": "0c91a227",
   "metadata": {},
   "outputs": [],
   "source": []
  },
  {
   "cell_type": "code",
   "execution_count": null,
   "id": "72d34e5a",
   "metadata": {},
   "outputs": [],
   "source": []
  },
  {
   "cell_type": "code",
   "execution_count": null,
   "id": "7128805e",
   "metadata": {},
   "outputs": [],
   "source": []
  },
  {
   "cell_type": "code",
   "execution_count": null,
   "id": "7006fc82",
   "metadata": {},
   "outputs": [],
   "source": []
  },
  {
   "cell_type": "code",
   "execution_count": null,
   "id": "7c3ed948",
   "metadata": {},
   "outputs": [],
   "source": []
  },
  {
   "cell_type": "code",
   "execution_count": null,
   "id": "dde4206a",
   "metadata": {},
   "outputs": [],
   "source": []
  },
  {
   "cell_type": "code",
   "execution_count": null,
   "id": "336efaf1",
   "metadata": {},
   "outputs": [],
   "source": []
  },
  {
   "cell_type": "code",
   "execution_count": null,
   "id": "c8fa972c",
   "metadata": {},
   "outputs": [],
   "source": []
  },
  {
   "cell_type": "code",
   "execution_count": null,
   "id": "8eda3ca9",
   "metadata": {},
   "outputs": [],
   "source": []
  },
  {
   "cell_type": "code",
   "execution_count": null,
   "id": "e74d9f89",
   "metadata": {},
   "outputs": [],
   "source": []
  },
  {
   "cell_type": "code",
   "execution_count": null,
   "id": "54501926",
   "metadata": {},
   "outputs": [],
   "source": []
  },
  {
   "cell_type": "code",
   "execution_count": null,
   "id": "57c56912",
   "metadata": {},
   "outputs": [],
   "source": []
  },
  {
   "cell_type": "code",
   "execution_count": null,
   "id": "fa1d6787",
   "metadata": {},
   "outputs": [],
   "source": []
  },
  {
   "cell_type": "code",
   "execution_count": null,
   "id": "b868955c",
   "metadata": {},
   "outputs": [],
   "source": []
  }
 ],
 "metadata": {
  "kernelspec": {
   "display_name": "Python 3 (ipykernel)",
   "language": "python",
   "name": "python3"
  },
  "language_info": {
   "codemirror_mode": {
    "name": "ipython",
    "version": 3
   },
   "file_extension": ".py",
   "mimetype": "text/x-python",
   "name": "python",
   "nbconvert_exporter": "python",
   "pygments_lexer": "ipython3",
   "version": "3.10.2"
  }
 },
 "nbformat": 4,
 "nbformat_minor": 5
}
