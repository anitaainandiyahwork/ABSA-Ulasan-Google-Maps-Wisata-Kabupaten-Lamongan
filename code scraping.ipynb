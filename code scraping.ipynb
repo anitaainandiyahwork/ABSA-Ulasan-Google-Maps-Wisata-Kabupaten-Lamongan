{
 "cells": [
  {
   "cell_type": "code",
   "execution_count": 1,
   "metadata": {},
   "outputs": [],
   "source": [
    "import pandas as pd\n",
    "from selenium import webdriver\n",
    "from selenium.webdriver import ActionChains\n",
    "from selenium.webdriver.common.by import By \n",
    "import time\n",
    "from tqdm import tqdm"
   ]
  },
  {
   "cell_type": "code",
   "execution_count": 2,
   "metadata": {},
   "outputs": [
    {
     "name": "stderr",
     "output_type": "stream",
     "text": [
      "C:\\Users\\ASUS\\AppData\\Local\\Temp\\ipykernel_5920\\642321280.py:2: DeprecationWarning: executable_path has been deprecated, please pass in a Service object\n",
      "  driver = webdriver.Chrome('D:\\skripsi/chromedriver.exe')\n"
     ]
    }
   ],
   "source": [
    "# Menginisialisasi WebDriver Chrome\n",
    "driver = webdriver.Chrome('D:\\skripsi/chromedriver.exe')\n",
    "\n",
    "# Membuka halaman Google Maps yang akan di-scrape\n",
    "driver.get(\"https://www.google.com/maps/place/Taman+Alun-Alun+Kota+Lamongan/@-7.1203513,112.4134561,17z/data=!4m7!3m6!1s0x2e77f0b2f360079f:0x8fd4797dc49fa630!8m2!3d-7.1203566!4d112.4156448!9m1!1b1?hl=en\")\n",
    "\n",
    "# Memberikan penundaan selama 5 detik untuk memastikan halaman terbuka sepenuhnya\n",
    "time.sleep(5)"
   ]
  },
  {
   "cell_type": "code",
   "execution_count": 3,
   "metadata": {},
   "outputs": [
    {
     "name": "stderr",
     "output_type": "stream",
     "text": [
      "  0%|          | 0/10 [00:00<?, ?it/s]\n",
      "100%|██████████| 10/10 [00:01<00:00,  6.86it/s]\n"
     ]
    }
   ],
   "source": [
    "# Mengatur jumlah halaman yang akan di-scroll dan jumlah ulasan per halaman\n",
    "page_num = 1\n",
    "per = 10\n",
    "\n",
    "# Melakukan scroll pada setiap halaman\n",
    "pbar = tqdm(total=page_num*per)\n",
    "with tqdm(total=page_num*per, position=0, leave=True) as pbar:\n",
    "    for i in range(page_num):\n",
    "        # Mencari elemen buffer yang berisi ulasan\n",
    "        buffer = driver.find_elements(By.CLASS_NAME, 'qjESne') \n",
    "        action = ActionChains(driver)\n",
    "        n =len(buffer)\n",
    "        # Melakukan scroll ke elemen buffer terakhir\n",
    "        action.move_to_element(buffer[n-1]).perform()\n",
    "        time.sleep(1)\n",
    "        pbar.update(per)\n",
    "    pbar.close()"
   ]
  },
  {
   "cell_type": "code",
   "execution_count": 4,
   "metadata": {},
   "outputs": [],
   "source": [
    "# Menginisialisasi list untuk menyimpan ulasan\n",
    "box_list = []\n",
    "review_list = []\n",
    "\n",
    "# Mencari elemen kotak ulasan dan mengekstraksi teks ulasan\n",
    "boxes = driver.find_elements(By.CLASS_NAME, 'jftiEf.fontBodyMedium') # review class\n",
    "for box in boxes:\n",
    "    try:\n",
    "        # Mengklik tombol \"Lihat Lebih Banyak\"\n",
    "        more_btn = box.find_element(By.CLASS_NAME, 'w8nwRe.kyuRq')\n",
    "        more_btn.click()\n",
    "        time.sleep(0.5)\n",
    "    except:\n",
    "        continue\n",
    "# Menambahkan teks ulasan ke dalam list review_list\n",
    "for box in boxes:\n",
    "    IDs = box.find_elements(By.CLASS_NAME, 'd4r55')\n",
    "    reviews = box.find_elements(By.CSS_SELECTOR,'span.wiI7pd')\n",
    "    for ID, review in zip(IDs, reviews):\n",
    "        review_list.append(review.text)"
   ]
  },
  {
   "cell_type": "code",
   "execution_count": 7,
   "metadata": {},
   "outputs": [
    {
     "data": {
      "text/html": [
       "<div>\n",
       "<style scoped>\n",
       "    .dataframe tbody tr th:only-of-type {\n",
       "        vertical-align: middle;\n",
       "    }\n",
       "\n",
       "    .dataframe tbody tr th {\n",
       "        vertical-align: top;\n",
       "    }\n",
       "\n",
       "    .dataframe thead th {\n",
       "        text-align: right;\n",
       "    }\n",
       "</style>\n",
       "<table border=\"1\" class=\"dataframe\">\n",
       "  <thead>\n",
       "    <tr style=\"text-align: right;\">\n",
       "      <th></th>\n",
       "      <th>review</th>\n",
       "    </tr>\n",
       "  </thead>\n",
       "  <tbody>\n",
       "    <tr>\n",
       "      <th>0</th>\n",
       "      <td>Alun-Alun Lamongan adalah salah satu fasilitas...</td>\n",
       "    </tr>\n",
       "    <tr>\n",
       "      <th>1</th>\n",
       "      <td>Alun-Alun Lamongan kini jadi magnet baru bagi ...</td>\n",
       "    </tr>\n",
       "    <tr>\n",
       "      <th>2</th>\n",
       "      <td>Tempat yang asyik untuk istirahat sejenak dala...</td>\n",
       "    </tr>\n",
       "    <tr>\n",
       "      <th>3</th>\n",
       "      <td>Lamongan kota soto,  sego boran.... Sangat rom...</td>\n",
       "    </tr>\n",
       "    <tr>\n",
       "      <th>4</th>\n",
       "      <td>Alun alun lumayan luas, ada tempat bermain unt...</td>\n",
       "    </tr>\n",
       "  </tbody>\n",
       "</table>\n",
       "</div>"
      ],
      "text/plain": [
       "                                              review\n",
       "0  Alun-Alun Lamongan adalah salah satu fasilitas...\n",
       "1  Alun-Alun Lamongan kini jadi magnet baru bagi ...\n",
       "2  Tempat yang asyik untuk istirahat sejenak dala...\n",
       "3  Lamongan kota soto,  sego boran.... Sangat rom...\n",
       "4  Alun alun lumayan luas, ada tempat bermain unt..."
      ]
     },
     "execution_count": 7,
     "metadata": {},
     "output_type": "execute_result"
    }
   ],
   "source": [
    "# Membuat DataFrame dari list ulasan\n",
    "review = pd.DataFrame(\n",
    "    {'review': review_list\n",
    "    })\n",
    "review.head()\n"
   ]
  },
  {
   "cell_type": "code",
   "execution_count": null,
   "metadata": {},
   "outputs": [],
   "source": [
    "review.to_csv(r'soto.csv', encoding=\"utf-8\")"
   ]
  }
 ],
 "metadata": {
  "kernelspec": {
   "display_name": "Python 3",
   "language": "python",
   "name": "python3"
  },
  "language_info": {
   "codemirror_mode": {
    "name": "ipython",
    "version": 3
   },
   "file_extension": ".py",
   "mimetype": "text/x-python",
   "name": "python",
   "nbconvert_exporter": "python",
   "pygments_lexer": "ipython3",
   "version": "3.10.2"
  },
  "orig_nbformat": 4
 },
 "nbformat": 4,
 "nbformat_minor": 2
}
